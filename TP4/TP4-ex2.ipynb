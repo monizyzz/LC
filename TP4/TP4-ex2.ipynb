{
 "cells": [
  {
   "cell_type": "markdown",
   "metadata": {},
   "source": [
    "# Trabalho Prático 4"
   ]
  },
  {
   "cell_type": "markdown",
   "metadata": {},
   "source": [
    "## Grupo 04 - Renato Garcia (A101987) & Bernardo Moniz (A102497)"
   ]
  },
  {
   "cell_type": "raw",
   "metadata": {
    "vscode": {
     "languageId": "raw"
    }
   },
   "source": [
    "INPUT  a, b\n",
    "assume  a > 0 and b > 0\n",
    "r, r', s, s', t, t' = a, b, 1, 0, 0, 1\n",
    "while r' != 0\n",
    "  q = r div r'\n",
    "  r, r', s, s', t, t' = r', r − q × r', s', s − q × s', t', t − q × t' \n",
    "OUTPUT r, s, t"
   ]
  },
  {
   "cell_type": "markdown",
   "metadata": {},
   "source": [
    "## Problema 2\n",
    "### Enunciado\n",
    "\n",
    "Este exercício é dirigido à <u>prova de correção</u> do algoritmo estendido de Euclides  apresentado no trabalho TP3\n",
    "\n",
    "a. Construa a asserção lógica que representa a pós-condição do algoritmo. Note que a definição da função  $\\gcd$  é   $\\gcd(a,b)\\;\\equiv\\; \\min \\{\\,r > 0\\,|\\,\\exists\\,s,t\\,\\centerdot\\, r = a*s+b*t\\,\\}$.\n",
    "\n",
    "b. Usando a metodologia do comando havoc para o ciclo, escreva o programa na linguagem dos comandos anotados (LPA). Codifique a pós-condição do algoritmo com um comando **assert**.\n",
    "\n",
    "c. Construa codificações do programa LPA através de transformadores de predicados “strongest post-condition” e  prove a correção  do programa LPA.\n"
   ]
  },
  {
   "cell_type": "markdown",
   "metadata": {},
   "source": [
    "### Resolução"
   ]
  },
  {
   "cell_type": "markdown",
   "metadata": {},
   "source": [
    "a) Construa a asserção lógica que representa a pós-condição do algoritmo.\n",
    "Note que a definição da função $\\gcd$  é   $\\gcd(a,b)\\;\\equiv\\; \\min \\{\\,r > 0\\,|\\,\\exists\\,s,t\\,\\centerdot\\, r = a*s+b*t\\,\\}$."
   ]
  },
  {
   "cell_type": "code",
   "execution_count": 1,
   "metadata": {},
   "outputs": [
    {
     "name": "stdout",
     "output_type": "stream",
     "text": [
      "((r = ((a * s) + (b * t))) & (0 < r) & (forall x, y, z . (((... = ...) & (... < ...)) -> (r <= x))) & (r_prime = 0))\n"
     ]
    }
   ],
   "source": [
    "from pysmt.shortcuts import *\n",
    "from pysmt.typing import *\n",
    "\n",
    "def Abs(x):\n",
    "    return Ite(GE(x, Int(0)), x, Times(Int(-1), x))\n",
    "\n",
    "a = Symbol('a', INT)\n",
    "b = Symbol('b', INT)\n",
    "r = Symbol('r', INT)\n",
    "r_prime = Symbol('r_prime', INT)\n",
    "r_ = Symbol('r_', INT)\n",
    "s = Symbol('s', INT)\n",
    "s_prime = Symbol('s_prime', INT)  \n",
    "s_ = Symbol('s_', INT)\n",
    "t = Symbol('t', INT)\n",
    "t_prime = Symbol('t_prime', INT)  \n",
    "t_ = Symbol('t_', INT)\n",
    "q = Symbol('q', INT)\n",
    "\n",
    "inv = And(\n",
    "    GT(r, Int(0)),\n",
    "    GT(r_prime, Int(0)),\n",
    "    Equals(r, Plus(Times(a, s), Times(b, t))),\n",
    "    Equals(r_prime, Plus(Times(a, s_prime), Times(b, t_prime)))\n",
    ")\n",
    "\n",
    "pos = And(\n",
    "    Equals(r, Plus(Times(a, s), Times(b, t))),\n",
    "    GT(r, Int(0)),\n",
    "    ForAll([Symbol('x', INT), Symbol('y', INT), Symbol('z', INT)],\n",
    "           Implies(\n",
    "               And(Equals(Symbol('x', INT), Plus(Times(a, Symbol('y', INT)), Times(b, Symbol('z', INT)))),\n",
    "                   GT(Symbol('x', INT), Int(0))),\n",
    "               LE(r, Symbol('x', INT))\n",
    "           )),\n",
    "    Equals(r_prime, Int(0))\n",
    ")\n",
    "\n",
    "print(pos)\n"
   ]
  },
  {
   "cell_type": "markdown",
   "metadata": {},
   "source": [
    "b. Usando a metodologia do comando havoc para o ciclo, escreva o programa na linguagem dos comandos anotados (LPA).\n",
    "Codifique a pós-condição do algoritmo com um comando **assert**."
   ]
  },
  {
   "cell_type": "markdown",
   "metadata": {},
   "source": [
    "**De acordo com o estudado nas aulas teóricas, temos que:**"
   ]
  },
  {
   "cell_type": "markdown",
   "metadata": {},
   "source": [
    "Seja $\\upsilon$ o conjunto de todas as variáveis que ocorrem no corpo do ciclo. \n",
    "Seja $W^*$ o seguinte programa anotado:\n",
    "\n",
    "$$W^* \\equiv \\mathsf{havoc}\\,\\upsilon\\;;\\;\\left\\{\\,\\{\\,\\mathsf{assume}\\,b\\;;\\;S\\;;\\,\\mathsf{assume}\\,\\mathtt{False}\\,\\}\\mathbin{\\;\\,\\|\\,\\;}\\{\\,\\mathsf{assume}\\,\\neg b\\,\\}\\,\\right\\}$$\n",
    "\n",
    "Então, para todos os predicados $\\phi$ e $\\varphi$, verifica-se na lógica de Floyd-Hoare:\n",
    "\n",
    "$$\\{\\phi\\}\\;W^*\\;\\{\\varphi\\}\\;\\Longrightarrow\\;\\{\\phi\\}\\;W\\;\\{\\varphi\\}$$\n"
   ]
  },
  {
   "cell_type": "raw",
   "metadata": {
    "vscode": {
     "languageId": "raw"
    }
   },
   "source": [
    "assume a > 0 and b > 0;\n",
    "r, r', s, s', t, t' <- a, b, 1, 0, 0, 1;\n",
    "havoc r, r', s, s', t, t';\n",
    "\n",
    "(\n",
    "    (\n",
    "      assume r' != 0;\n",
    "      q <- r div r';\n",
    "      r, r', s, s', t, t' <- r', r - q * r', s', s - q * s', t', t - q * t';\n",
    "      assume False\n",
    "    )\n",
    "    ||\n",
    "    (\n",
    "      assume r' = 0;\n",
    "    )\n",
    ")\n",
    "  assert (\n",
    "    r = a * s + b * t and        \n",
    "    r > 0 and                    \n",
    "    forall x, y, z .             \n",
    "      ((x = a * y + b * z and x > 0) -> r <= x) and \n",
    "    r' = 0;\n",
    "    );\n",
    "\n"
   ]
  },
  {
   "cell_type": "markdown",
   "metadata": {},
   "source": [
    "c. Construa codificações do programa LPA através de transformadores de predicados “strongest post-condition” e  prove a correção  do programa LPA."
   ]
  },
  {
   "cell_type": "code",
   "execution_count": 2,
   "metadata": {},
   "outputs": [
    {
     "name": "stdout",
     "output_type": "stream",
     "text": [
      "Program verified successfully\n"
     ]
    }
   ],
   "source": [
    "def sp_verifier():\n",
    "    \n",
    "    a = Symbol(\"a\", INT)\n",
    "    b = Symbol(\"b\", INT)\n",
    "    r = Symbol(\"r\", INT)\n",
    "    r_prime = Symbol(\"r_prime\", INT)\n",
    "    s = Symbol(\"s\", INT)\n",
    "    s_prime = Symbol(\"s_prime\", INT)\n",
    "    t = Symbol(\"t\", INT)\n",
    "    t_prime = Symbol(\"t_prime\", INT)\n",
    "    q = Symbol(\"q\", INT)\n",
    "    \n",
    "    r_h = Symbol(\"r_h\", INT)\n",
    "    r_prime_h = Symbol(\"r_prime_h\", INT)\n",
    "    s_h = Symbol(\"s_h\", INT)\n",
    "    s_prime_h = Symbol(\"s_prime_h\", INT)\n",
    "    t_h = Symbol(\"t_h\", INT)\n",
    "    t_prime_h = Symbol(\"t_prime_h\", INT)\n",
    "    q_h = Symbol(\"q_h\", INT)\n",
    "\n",
    "    # Variables for minimality condition\n",
    "    r_ = Symbol(\"r_\", INT)\n",
    "    s_ = Symbol(\"s_\", INT)\n",
    "    t_ = Symbol(\"t_\", INT)\n",
    "\n",
    "    # Initial state\n",
    "    sp = TRUE()\n",
    "    \n",
    "    # SP of assume(a > 0 ∧ b > 0)\n",
    "    sp = And(sp, GT(a, Int(0)), GT(b, Int(0)))\n",
    "    \n",
    "    # SP of assignment r,r',s,s',t,t' ← a,b,1,0,0,1\n",
    "    sp = And(\n",
    "        sp,\n",
    "        Equals(r, a),\n",
    "        Equals(r_prime, b),\n",
    "        Equals(s, Int(1)),\n",
    "        Equals(s_prime, Int(0)),\n",
    "        Equals(t, Int(0)),\n",
    "        Equals(t_prime, Int(1))\n",
    "    )\n",
    "    \n",
    "    loop_invariant = And(\n",
    "        GT(r, Int(0)),\n",
    "        GT(r_prime, Int(0)),\n",
    "        Equals(r, Plus(Times(a, s), Times(b, t))),\n",
    "        Equals(r_prime, Plus(Times(a, s_prime), Times(b, t_prime)))\n",
    "    )\n",
    "    \n",
    "    sp = And(sp, loop_invariant)\n",
    "    \n",
    "    # SP of havoc r,r',s,s',t,t',q\n",
    "    sp = And(\n",
    "        sp.substitute({\n",
    "            r: r_h,\n",
    "            r_prime: r_prime_h,\n",
    "            s: s_h,\n",
    "            s_prime: s_prime_h,\n",
    "            t: t_h,\n",
    "            t_prime: t_prime_h,\n",
    "            q: q_h\n",
    "        }),\n",
    "        loop_invariant\n",
    "    )\n",
    "    \n",
    "    loop_body = And(\n",
    "        Not(Equals(r_prime, Int(0))),\n",
    "        Equals(q, Div(r, r_prime)),\n",
    "        Equals(r, r_prime),\n",
    "        Equals(r_prime, Minus(r, Times(q, r_prime))),\n",
    "        Equals(s, s_prime),\n",
    "        Equals(s_prime, Minus(s, Times(q, s_prime))),\n",
    "        Equals(t, t_prime),\n",
    "        Equals(t_prime, Minus(t, Times(q, t_prime)))\n",
    "    )\n",
    "    \n",
    "    sp = Or(And(sp, loop_body), And(sp, Equals(r_prime, Int(0))))\n",
    "    \n",
    "    assertion = And(\n",
    "        GT(r, Int(0)),\n",
    "        Equals(r, Plus(Times(a, s), Times(b, t))),\n",
    "        ForAll([r_, s_, t_], \n",
    "               Implies(\n",
    "                   And(GT(r_, Int(0)),\n",
    "                       Equals(r_, Plus(Times(a, s_), Times(b, t_)))),\n",
    "                   LE(r, r_)\n",
    "               )),\n",
    "        Equals(r_prime, Int(0))\n",
    "    )\n",
    "\n",
    "    \n",
    "    with Solver(name=\"z3\") as solver:\n",
    "        solver.add_assertion(Not(Implies(sp, assertion)))\n",
    "        if solver.solve():\n",
    "            print(\"Verification failed\")\n",
    "            model = solver.get_model()\n",
    "            print(\"Counter-example:\")\n",
    "            print(f\"a = {model.get_value(a)}\")\n",
    "            print(f\"b = {model.get_value(b)}\")\n",
    "            print(f\"r = {model.get_value(r)}\")\n",
    "            print(f\"s = {model.get_value(s)}\")\n",
    "            print(f\"t = {model.get_value(t)}\")\n",
    "        else:\n",
    "            print(\"Program verified successfully\")\n",
    "\n",
    "if __name__ == \"__main__\":\n",
    "    sp_verifier()\n"
   ]
  }
 ],
 "metadata": {
  "kernelspec": {
   "display_name": "Python 3 (ipykernel)",
   "language": "python",
   "name": "python3"
  },
  "language_info": {
   "codemirror_mode": {
    "name": "ipython",
    "version": 3
   },
   "file_extension": ".py",
   "mimetype": "text/x-python",
   "name": "python",
   "nbconvert_exporter": "python",
   "pygments_lexer": "ipython3",
   "version": "3.10.14"
  }
 },
 "nbformat": 4,
 "nbformat_minor": 4
}
