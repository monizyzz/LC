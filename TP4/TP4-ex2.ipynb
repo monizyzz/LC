{
 "cells": [
  {
   "cell_type": "markdown",
   "metadata": {},
   "source": [
    "# Trabalho Prático 4"
   ]
  },
  {
   "cell_type": "markdown",
   "metadata": {},
   "source": [
    "## Grupo 04 - Renato Garcia (A101987) & Bernardo Moniz (A102497)"
   ]
  },
  {
   "cell_type": "markdown",
   "metadata": {},
   "source": [
    "## Problema 2\n",
    "### Enunciado\n",
    "\n",
    "Este exercício é dirigido à <u>prova de correção</u> do algoritmo estendido de Euclides  apresentado no trabalho TP3\n",
    "\n",
    "a. Construa a asserção lógica que representa a pós-condição do algoritmo. Note que a definição da função  $\\gcd$  é   $\\gcd(a,b)\\;\\equiv\\; \\min \\{\\,r > 0\\,|\\,\\exists\\,s,t\\,\\centerdot\\, r = a*s+b*t\\,\\}$.\n",
    "\n",
    "b. Usando a metodologia do comando havoc para o ciclo, escreva o programa na linguagem dos comandos anotados (LPA). Codifique a pós-condição do algoritmo com um comando **assert**.\n",
    "\n",
    "c. Construa codificações do programa LPA através de transformadores de predicados “strongest post-condition” e  prove a correção  do programa LPA.\n"
   ]
  },
  {
   "cell_type": "markdown",
   "metadata": {},
   "source": [
    "### Resolução"
   ]
  },
  {
   "cell_type": "code",
   "execution_count": null,
   "metadata": {},
   "outputs": [],
   "source": []
  }
 ],
 "metadata": {
  "kernelspec": {
   "display_name": "Python 3 (ipykernel)",
   "language": "python",
   "name": "python3"
  },
  "language_info": {
   "codemirror_mode": {
    "name": "ipython",
    "version": 3
   },
   "file_extension": ".py",
   "mimetype": "text/x-python",
   "name": "python",
   "nbconvert_exporter": "python",
   "pygments_lexer": "ipython3",
   "version": "3.10.14"
  }
 },
 "nbformat": 4,
 "nbformat_minor": 4
}
